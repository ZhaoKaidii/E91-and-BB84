{
 "cells": [
  {
   "cell_type": "code",
   "execution_count": 4,
   "metadata": {},
   "outputs": [
    {
     "name": "stdout",
     "output_type": "stream",
     "text": [
      "0.49731\n"
     ]
    }
   ],
   "source": [
    "import numpy as np\n",
    "import math\n",
    "import matplotlib.pyplot as plt\n",
    "from scipy import optimize, special\n",
    "from numpy import *\n",
    "from pylab import *\n",
    "import decimal\n",
    "import matplotlib as mpl\n",
    "import random\n",
    "\n",
    "Total=100000\n",
    "n=0\n",
    "ture=0\n",
    "S=0\n",
    "N=math.sqrt(2)*0.5\n",
    "Polarization=np.array([[[1,0],[0,1]],[[N,N],[N,-N]]])\n",
    "\n",
    "while n<Total:\n",
    "    # Alice send a bit (0 or 1), and choose a basis randomly, the combination may give a certain polarization state# \n",
    "    A=random.randint(0,1)\n",
    "    BasisA=random.randint(0,1)\n",
    "    OrderA=BasisA*2+A\n",
    "    Asend=Polarization[BasisA][A]\n",
    "    \n",
    "    \n",
    "    \n",
    "    ## Bob does a measurement\n",
    "    BasisB=random.randint(0,1)\n",
    "    MeassureB0=Polarization[BasisB][0]\n",
    "    MeassureB1=Polarization[BasisB][1]\n",
    "    PB0=(np.dot(Asend,MeassureB0))**2\n",
    "    PB1=(np.dot(Asend,MeassureB1))**2\n",
    "    \n",
    "    p = np.array([PB0,PB1])\n",
    "    B = np.random.choice([0, 1], p = p.ravel())\n",
    "    \n",
    "    \n",
    "    \n",
    "    n=n+1\n",
    "    if (A==B)&(BasisA==BasisB):\n",
    "        # t And when Bob and Alice check the qubit ended and recived, and the basis, the ratio of c\n",
    "                    ture=ture+1\n",
    "    else:\n",
    "                    ture=ture\n",
    "else:\n",
    "        D2=ture/Total\n",
    "        print(D2)\n",
    "        "
   ]
  },
  {
   "cell_type": "code",
   "execution_count": 8,
   "metadata": {},
   "outputs": [
    {
     "name": "stdout",
     "output_type": "stream",
     "text": [
      "1.0\n",
      "0\n"
     ]
    }
   ],
   "source": [
    "import numpy as np\n",
    "import math\n",
    "import matplotlib.pyplot as plt\n",
    "from scipy import optimize, special\n",
    "from numpy import *\n",
    "from pylab import *\n",
    "import decimal\n",
    "import matplotlib as mpl\n",
    "import random\n",
    "## a simple check for each bit\n",
    "Total=1\n",
    "n=0\n",
    "ture=0\n",
    "N=math.sqrt(2)*0.5\n",
    "Polarization=np.array([[[1,0],[0,1]],[[N,N],[N,-N]]])\n",
    "\n",
    "\n",
    "while n<Total:\n",
    "    A=random.randint(0,1)\n",
    "    BasisA=random.randint(0,1)\n",
    "    \n",
    "    OrderA=BasisA*2+A\n",
    "    Asend=Polarization[BasisA][A]\n",
    "    \n",
    "    BasisB=random.randint(0,1)\n",
    "    Meassure0=Polarization[BasisB][0]\n",
    "    Meassure1=Polarization[BasisB][1]\n",
    "    P0=(np.dot(Asend,Meassure0))**2\n",
    "    P1=(np.dot(Asend,Meassure1))**2\n",
    "    \n",
    "    p = np.array([P0,P1])\n",
    "    B = np.random.choice([0, 1], p = p.ravel())\n",
    "    n=n+1\n",
    "    if (A==B)&(BasisA==BasisB):\n",
    "                    ture=ture+1\n",
    "    else:\n",
    "                    ture=ture\n",
    "else:\n",
    "        D1=ture/Total\n",
    "        print(D1)\n",
    "        print(B)\n"
   ]
  },
  {
   "cell_type": "code",
   "execution_count": null,
   "metadata": {},
   "outputs": [],
   "source": []
  }
 ],
 "metadata": {
  "kernelspec": {
   "display_name": "Python 3",
   "language": "python",
   "name": "python3"
  },
  "language_info": {
   "codemirror_mode": {
    "name": "ipython",
    "version": 3
   },
   "file_extension": ".py",
   "mimetype": "text/x-python",
   "name": "python",
   "nbconvert_exporter": "python",
   "pygments_lexer": "ipython3",
   "version": "3.6.5"
  }
 },
 "nbformat": 4,
 "nbformat_minor": 2
}
